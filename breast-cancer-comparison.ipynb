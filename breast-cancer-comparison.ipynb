{
 "cells": [
  {
   "cell_type": "markdown",
   "id": "bbbd88fb",
   "metadata": {},
   "source": [
    "$k$-Nearest Neighbors ($k$-NN) algorithm using Euclidean distance. "
   ]
  },
  {
   "cell_type": "code",
   "execution_count": 6,
   "id": "abdfe269",
   "metadata": {},
   "outputs": [],
   "source": [
    "def Euc_dist(data1, data2):\n",
    "    dist = 0.0\n",
    "    for i in range(len(data1)):\n",
    "        dist += (data1[i] - data1[i])**2\n",
    "    return np.sqrt(dist)\n",
    "\n",
    "def neighborf(xtr, te, k):\n",
    "    ar = list()\n",
    "    for x in xtr:\n",
    "        dist = Euc_dist(te,x)\n",
    "        ar.append((x,dist))\n",
    "    ar.sort(key=lambda tup: tup[1])\n",
    "    neighbors  =[] \n",
    "    for i in range(k):\n",
    "        neighbors.append(ar[i][0])\n",
    "    return neighbors\n",
    "\n",
    "def k_NN(xtr, ytr, xte, K):\n",
    "    arr = []\n",
    "    xtrvals = [list(x) for x in xtr]\n",
    "    neighbors = neighborf(xtr,xte,K)\n",
    "    nvals  = [list(x) for x in neighbors]\n",
    "    for i in nvals:\n",
    "        arr.append(ytr[xtrvals.index(i)])\n",
    "    out = max(set(arr), key=arr.count)\n",
    "    return out"
   ]
  },
  {
   "cell_type": "code",
   "execution_count": 8,
   "id": "90d3d976",
   "metadata": {},
   "outputs": [],
   "source": [
    "X = dataset.data[:,:2]\n",
    "y = dataset.target"
   ]
  },
  {
   "cell_type": "markdown",
   "id": "21777187",
   "metadata": {},
   "source": [
    "1. Partition the data into training and test using 70/30 partition, respectively.\n",
    "\n",
    "2. Train a Naive Bayes Classifier using the training data. Using the test data, evaluate the classifier performance using accuracy and confusion matrix.\n",
    "\n",
    "3. Train a $k$-NN classifier with $k=3$ using the training data. Using the test data, evaluate the classifier performance using accuracy and confusion matrix.\n",
    "\n",
    "4. From the results you obtained in 2 and 3, which model performs best? Explain your reasoning.\n",
    "\n",
    "5. Implement 4-fold cross-validation to find out the best value of $k$ that maximizes the model's accuracy."
   ]
  },
  {
   "cell_type": "code",
   "execution_count": 9,
   "id": "35def187",
   "metadata": {},
   "outputs": [],
   "source": [
    "from sklearn.model_selection import train_test_split, KFold\n",
    "from sklearn.naive_bayes import GaussianNB\n",
    "from sklearn.metrics import confusion_matrix, accuracy_score"
   ]
  },
  {
   "cell_type": "markdown",
   "id": "630e7971",
   "metadata": {},
   "source": [
    "1."
   ]
  },
  {
   "cell_type": "code",
   "execution_count": 10,
   "id": "b2b06466",
   "metadata": {},
   "outputs": [],
   "source": [
    "x_tr, x_te, y_tr, y_te = train_test_split(X, y, test_size = 0.30, random_state = 100)"
   ]
  },
  {
   "cell_type": "markdown",
   "id": "615dca84",
   "metadata": {},
   "source": [
    "2. Naive Bayes"
   ]
  },
  {
   "cell_type": "code",
   "execution_count": 11,
   "id": "c9f70249",
   "metadata": {},
   "outputs": [
    {
     "name": "stdout",
     "output_type": "stream",
     "text": [
      "Accuracy score =  0.8596491228070176\n",
      "Confusion Matrix = \n",
      "[[52 17]\n",
      " [ 7 95]]\n"
     ]
    }
   ],
   "source": [
    "NB = GaussianNB().fit(x_tr, y_tr).predict(x_te)\n",
    "print(\"Accuracy score = \", accuracy_score(y_te,NB))\n",
    "print(\"Confusion Matrix = \")\n",
    "print(confusion_matrix(y_te,NB))"
   ]
  },
  {
   "cell_type": "markdown",
   "id": "699faab9",
   "metadata": {},
   "source": [
    "3. k-NN , k = 3"
   ]
  },
  {
   "cell_type": "code",
   "execution_count": 12,
   "id": "57750b90",
   "metadata": {
    "scrolled": true
   },
   "outputs": [
    {
     "name": "stdout",
     "output_type": "stream",
     "text": [
      "Accuracy score =  0.40350877192982454\n",
      "Confusion Matrix(KNN) = \n",
      "[[ 69   0]\n",
      " [102   0]]\n"
     ]
    }
   ],
   "source": [
    "knn = np.zeros(len(y_te))\n",
    "for i in range(len(x_te)):\n",
    "    knn[i] = k_NN(x_tr,y_tr,x_te[i],3)\n",
    "print(\"Accuracy score = \", accuracy_score(y_te,knn))\n",
    "print(\"Confusion Matrix(KNN) = \")\n",
    "print(confusion_matrix(y_te,knn))"
   ]
  },
  {
   "cell_type": "markdown",
   "id": "a5c4064a",
   "metadata": {},
   "source": [
    "4."
   ]
  },
  {
   "cell_type": "markdown",
   "id": "61b001d9",
   "metadata": {},
   "source": [
    "Naive Bayes performs better than k-NN which is confirmed by the accuracy score. "
   ]
  },
  {
   "cell_type": "markdown",
   "id": "21912743",
   "metadata": {},
   "source": [
    "5."
   ]
  },
  {
   "cell_type": "code",
   "execution_count": 13,
   "id": "60a303b4",
   "metadata": {},
   "outputs": [
    {
     "name": "stdout",
     "output_type": "stream",
     "text": [
      "2 0.3594191919191919\n",
      "3 0.48229797979797984\n",
      "4 0.4823737373737374\n",
      "5 0.6405555555555555\n",
      "6 0.6408585858585858\n",
      "Best value of k that optimizes the model accuracy =  6\n"
     ]
    }
   ],
   "source": [
    "k_vals = [2,3,4,5,6]\n",
    "kf = KFold(n_splits=4,shuffle=True)\n",
    "accuracy = []\n",
    "for k in k_vals:\n",
    "    temp = 0\n",
    "    for train_index, validation_index in kf.split(x_tr):\n",
    "        xtr, xva = x_tr[train_index], x_tr[validation_index]\n",
    "        ytr, yva = y_tr[train_index], y_tr[validation_index]\n",
    "        knn = np.zeros(len(yva))\n",
    "        for i in range(xva.shape[0]):\n",
    "            knn[i] = k_NN(xtr,ytr,xva[i],k)\n",
    "        temp = temp + accuracy_score(yva,knn)   \n",
    "    accuracy.append(temp/4)\n",
    "    \n",
    "for (i, item) in enumerate(accuracy, start=k_vals[0]):\n",
    "    print(i, item)\n",
    "    \n",
    "print('Best value of k that optimizes the model accuracy = ',k_vals[np.argmax(accuracy)])"
   ]
  }
 ],
 "metadata": {
  "kernelspec": {
   "display_name": "Python 3 (ipykernel)",
   "language": "python",
   "name": "python3"
  },
  "language_info": {
   "codemirror_mode": {
    "name": "ipython",
    "version": 3
   },
   "file_extension": ".py",
   "mimetype": "text/x-python",
   "name": "python",
   "nbconvert_exporter": "python",
   "pygments_lexer": "ipython3",
   "version": "3.7.13"
  }
 },
 "nbformat": 4,
 "nbformat_minor": 5
}
